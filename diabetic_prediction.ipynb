{
  "nbformat": 4,
  "nbformat_minor": 0,
  "metadata": {
    "colab": {
      "provenance": []
    },
    "kernelspec": {
      "name": "python3",
      "display_name": "Python 3"
    },
    "language_info": {
      "name": "python"
    }
  },
  "cells": [
    {
      "cell_type": "code",
      "source": [
        "import csv\n",
        "import random\n",
        "import math\n",
        "from google.colab import files\n",
        "\n",
        "# Upload the file\n",
        "uploaded = files.upload()\n",
        "\n",
        "# Load CSV function\n",
        "def loadCsv(filename):\n",
        "    with open(filename, newline='') as csvfile:\n",
        "        lines = csv.reader(csvfile)\n",
        "        dataset = list(lines)\n",
        "        # Skip the header row\n",
        "        dataset = dataset[1:]\n",
        "        for i in range(len(dataset)):\n",
        "            dataset[i] = [float(x) for x in dataset[i]]\n",
        "    return dataset\n",
        "\n",
        "# Assuming you uploaded the file `diabetes.csv`\n",
        "filename = list(uploaded.keys())[0]  # Get the uploaded file name\n",
        "dataset = loadCsv(filename)  # Load the dataset\n",
        "print(f\"Loaded dataset with {len(dataset)} rows\")\n"
      ],
      "metadata": {
        "colab": {
          "base_uri": "https://localhost:8080/",
          "height": 91
        },
        "id": "qM6spV3u1i_x",
        "outputId": "3708861f-2149-4d5f-b30b-34f94508c58d"
      },
      "execution_count": 78,
      "outputs": [
        {
          "output_type": "display_data",
          "data": {
            "text/plain": [
              "<IPython.core.display.HTML object>"
            ],
            "text/html": [
              "\n",
              "     <input type=\"file\" id=\"files-a8f8af44-f29e-49c9-a253-d3fb77f76b0f\" name=\"files[]\" multiple disabled\n",
              "        style=\"border:none\" />\n",
              "     <output id=\"result-a8f8af44-f29e-49c9-a253-d3fb77f76b0f\">\n",
              "      Upload widget is only available when the cell has been executed in the\n",
              "      current browser session. Please rerun this cell to enable.\n",
              "      </output>\n",
              "      <script>// Copyright 2017 Google LLC\n",
              "//\n",
              "// Licensed under the Apache License, Version 2.0 (the \"License\");\n",
              "// you may not use this file except in compliance with the License.\n",
              "// You may obtain a copy of the License at\n",
              "//\n",
              "//      http://www.apache.org/licenses/LICENSE-2.0\n",
              "//\n",
              "// Unless required by applicable law or agreed to in writing, software\n",
              "// distributed under the License is distributed on an \"AS IS\" BASIS,\n",
              "// WITHOUT WARRANTIES OR CONDITIONS OF ANY KIND, either express or implied.\n",
              "// See the License for the specific language governing permissions and\n",
              "// limitations under the License.\n",
              "\n",
              "/**\n",
              " * @fileoverview Helpers for google.colab Python module.\n",
              " */\n",
              "(function(scope) {\n",
              "function span(text, styleAttributes = {}) {\n",
              "  const element = document.createElement('span');\n",
              "  element.textContent = text;\n",
              "  for (const key of Object.keys(styleAttributes)) {\n",
              "    element.style[key] = styleAttributes[key];\n",
              "  }\n",
              "  return element;\n",
              "}\n",
              "\n",
              "// Max number of bytes which will be uploaded at a time.\n",
              "const MAX_PAYLOAD_SIZE = 100 * 1024;\n",
              "\n",
              "function _uploadFiles(inputId, outputId) {\n",
              "  const steps = uploadFilesStep(inputId, outputId);\n",
              "  const outputElement = document.getElementById(outputId);\n",
              "  // Cache steps on the outputElement to make it available for the next call\n",
              "  // to uploadFilesContinue from Python.\n",
              "  outputElement.steps = steps;\n",
              "\n",
              "  return _uploadFilesContinue(outputId);\n",
              "}\n",
              "\n",
              "// This is roughly an async generator (not supported in the browser yet),\n",
              "// where there are multiple asynchronous steps and the Python side is going\n",
              "// to poll for completion of each step.\n",
              "// This uses a Promise to block the python side on completion of each step,\n",
              "// then passes the result of the previous step as the input to the next step.\n",
              "function _uploadFilesContinue(outputId) {\n",
              "  const outputElement = document.getElementById(outputId);\n",
              "  const steps = outputElement.steps;\n",
              "\n",
              "  const next = steps.next(outputElement.lastPromiseValue);\n",
              "  return Promise.resolve(next.value.promise).then((value) => {\n",
              "    // Cache the last promise value to make it available to the next\n",
              "    // step of the generator.\n",
              "    outputElement.lastPromiseValue = value;\n",
              "    return next.value.response;\n",
              "  });\n",
              "}\n",
              "\n",
              "/**\n",
              " * Generator function which is called between each async step of the upload\n",
              " * process.\n",
              " * @param {string} inputId Element ID of the input file picker element.\n",
              " * @param {string} outputId Element ID of the output display.\n",
              " * @return {!Iterable<!Object>} Iterable of next steps.\n",
              " */\n",
              "function* uploadFilesStep(inputId, outputId) {\n",
              "  const inputElement = document.getElementById(inputId);\n",
              "  inputElement.disabled = false;\n",
              "\n",
              "  const outputElement = document.getElementById(outputId);\n",
              "  outputElement.innerHTML = '';\n",
              "\n",
              "  const pickedPromise = new Promise((resolve) => {\n",
              "    inputElement.addEventListener('change', (e) => {\n",
              "      resolve(e.target.files);\n",
              "    });\n",
              "  });\n",
              "\n",
              "  const cancel = document.createElement('button');\n",
              "  inputElement.parentElement.appendChild(cancel);\n",
              "  cancel.textContent = 'Cancel upload';\n",
              "  const cancelPromise = new Promise((resolve) => {\n",
              "    cancel.onclick = () => {\n",
              "      resolve(null);\n",
              "    };\n",
              "  });\n",
              "\n",
              "  // Wait for the user to pick the files.\n",
              "  const files = yield {\n",
              "    promise: Promise.race([pickedPromise, cancelPromise]),\n",
              "    response: {\n",
              "      action: 'starting',\n",
              "    }\n",
              "  };\n",
              "\n",
              "  cancel.remove();\n",
              "\n",
              "  // Disable the input element since further picks are not allowed.\n",
              "  inputElement.disabled = true;\n",
              "\n",
              "  if (!files) {\n",
              "    return {\n",
              "      response: {\n",
              "        action: 'complete',\n",
              "      }\n",
              "    };\n",
              "  }\n",
              "\n",
              "  for (const file of files) {\n",
              "    const li = document.createElement('li');\n",
              "    li.append(span(file.name, {fontWeight: 'bold'}));\n",
              "    li.append(span(\n",
              "        `(${file.type || 'n/a'}) - ${file.size} bytes, ` +\n",
              "        `last modified: ${\n",
              "            file.lastModifiedDate ? file.lastModifiedDate.toLocaleDateString() :\n",
              "                                    'n/a'} - `));\n",
              "    const percent = span('0% done');\n",
              "    li.appendChild(percent);\n",
              "\n",
              "    outputElement.appendChild(li);\n",
              "\n",
              "    const fileDataPromise = new Promise((resolve) => {\n",
              "      const reader = new FileReader();\n",
              "      reader.onload = (e) => {\n",
              "        resolve(e.target.result);\n",
              "      };\n",
              "      reader.readAsArrayBuffer(file);\n",
              "    });\n",
              "    // Wait for the data to be ready.\n",
              "    let fileData = yield {\n",
              "      promise: fileDataPromise,\n",
              "      response: {\n",
              "        action: 'continue',\n",
              "      }\n",
              "    };\n",
              "\n",
              "    // Use a chunked sending to avoid message size limits. See b/62115660.\n",
              "    let position = 0;\n",
              "    do {\n",
              "      const length = Math.min(fileData.byteLength - position, MAX_PAYLOAD_SIZE);\n",
              "      const chunk = new Uint8Array(fileData, position, length);\n",
              "      position += length;\n",
              "\n",
              "      const base64 = btoa(String.fromCharCode.apply(null, chunk));\n",
              "      yield {\n",
              "        response: {\n",
              "          action: 'append',\n",
              "          file: file.name,\n",
              "          data: base64,\n",
              "        },\n",
              "      };\n",
              "\n",
              "      let percentDone = fileData.byteLength === 0 ?\n",
              "          100 :\n",
              "          Math.round((position / fileData.byteLength) * 100);\n",
              "      percent.textContent = `${percentDone}% done`;\n",
              "\n",
              "    } while (position < fileData.byteLength);\n",
              "  }\n",
              "\n",
              "  // All done.\n",
              "  yield {\n",
              "    response: {\n",
              "      action: 'complete',\n",
              "    }\n",
              "  };\n",
              "}\n",
              "\n",
              "scope.google = scope.google || {};\n",
              "scope.google.colab = scope.google.colab || {};\n",
              "scope.google.colab._files = {\n",
              "  _uploadFiles,\n",
              "  _uploadFilesContinue,\n",
              "};\n",
              "})(self);\n",
              "</script> "
            ]
          },
          "metadata": {}
        },
        {
          "output_type": "stream",
          "name": "stdout",
          "text": [
            "Saving diabetes.csv to diabetes (5).csv\n",
            "Loaded dataset with 768 rows\n"
          ]
        }
      ]
    },
    {
      "cell_type": "code",
      "source": [
        "# Print the first 5 rows of the dataset\n",
        "for row in dataset[:5]:\n",
        "    print(row)\n"
      ],
      "metadata": {
        "colab": {
          "base_uri": "https://localhost:8080/"
        },
        "id": "Ipxb2Z1T4pxW",
        "outputId": "8bccc59f-d0bf-4f4e-8fbd-78fd76ae6ce6"
      },
      "execution_count": 101,
      "outputs": [
        {
          "output_type": "stream",
          "name": "stdout",
          "text": [
            "[6.0, 148.0, 72.0, 35.0, 0.0, 33.6, 0.627, 50.0, 1.0]\n",
            "[1.0, 85.0, 66.0, 29.0, 0.0, 26.6, 0.351, 31.0, 0.0]\n",
            "[8.0, 183.0, 64.0, 0.0, 0.0, 23.3, 0.672, 32.0, 1.0]\n",
            "[1.0, 89.0, 66.0, 23.0, 94.0, 28.1, 0.167, 21.0, 0.0]\n",
            "[0.0, 137.0, 40.0, 35.0, 168.0, 43.1, 2.288, 33.0, 1.0]\n"
          ]
        }
      ]
    },
    {
      "cell_type": "code",
      "source": [
        "def splitDataset(dataset, splitRatio):\n",
        "    trainSize = int(len(dataset) * splitRatio)\n",
        "    trainSet = []\n",
        "    copy = list(dataset)\n",
        "    while len(trainSet) < trainSize:\n",
        "        index = random.randrange(len(copy))\n",
        "        trainSet.append(copy.pop(index))\n",
        "    return [trainSet, copy]"
      ],
      "metadata": {
        "id": "HmVOmp01sIs4"
      },
      "execution_count": 80,
      "outputs": []
    },
    {
      "cell_type": "code",
      "source": [
        "def separateByClass(dataset):\n",
        "    separated = {}\n",
        "    for i in range(len(dataset)):\n",
        "        vector = dataset[i]\n",
        "        if vector[-1] not in separated:\n",
        "            separated[vector[-1]] = []\n",
        "        separated[vector[-1]].append(vector)\n",
        "    return separated\n"
      ],
      "metadata": {
        "id": "IDQu1HqEs7FZ"
      },
      "execution_count": 81,
      "outputs": []
    },
    {
      "cell_type": "code",
      "source": [
        "def mean (numbers):\n",
        "  return sum(numbers)/float(len(numbers))"
      ],
      "metadata": {
        "id": "FSnr9zmwtTrw"
      },
      "execution_count": 82,
      "outputs": []
    },
    {
      "cell_type": "code",
      "source": [
        "# def stdev(numbers):\n",
        "#   avg = mean (numbers)\n",
        "#   variance=sum([pow(x-avg, 2) for x in numbers])/float(len(numbers)-1)\n",
        "#   return math.sqrt(variance)\n",
        "\n",
        "\n",
        "def stdev(numbers):\n",
        "    if len(numbers) < 2:\n",
        "        return 0  # Return 0 when the variance cannot be calculated\n",
        "    avg = mean(numbers)\n",
        "    variance = sum([pow(x - avg, 2) for x in numbers]) / float(len(numbers) - 1)\n",
        "    return math.sqrt(variance)\n"
      ],
      "metadata": {
        "id": "kRKhsGV5tXHX"
      },
      "execution_count": 92,
      "outputs": []
    },
    {
      "cell_type": "code",
      "source": [
        "def summarize(dataset):\n",
        "  summaries = [(mean (attribute), stdev(attribute)) for attribute in zip(*dataset)]\n",
        "  del summaries[-1]\n",
        "  return summaries"
      ],
      "metadata": {
        "id": "uJQT9ttQtgUX"
      },
      "execution_count": 93,
      "outputs": []
    },
    {
      "cell_type": "code",
      "source": [
        "def summarizeByClass(dataset):\n",
        "  separated=separateByClass (dataset)\n",
        "  summaries={}\n",
        "  for classValue, instances in separated.items():\n",
        "    summaries[classValue]=summarize(instances)\n",
        "    return summaries\n"
      ],
      "metadata": {
        "id": "k7jIDYbut2Py"
      },
      "execution_count": 94,
      "outputs": []
    },
    {
      "cell_type": "code",
      "source": [
        "# def calculateProbability(x, mean, stdev):\n",
        "#   exponent=math.exp(-(math.pow(x-mean,2)/(2 *math.pow(stdev,2))))\n",
        "#   return(1/(math.sqrt(2 *math.pl)*stdev))*exponent\n",
        "\n",
        "def calculateProbability(x, mean, stdev):\n",
        "    if stdev == 0:\n",
        "        return 1.0 if x == mean else 0.0  # Handle the zero variance case\n",
        "    exponent = math.exp(-(math.pow(x - mean, 2) / (2 * math.pow(stdev, 2))))\n",
        "    return (1 / (math.sqrt(2 * math.pi) * stdev)) * exponent\n"
      ],
      "metadata": {
        "id": "GcZpFBzMuDOA"
      },
      "execution_count": 95,
      "outputs": []
    },
    {
      "cell_type": "code",
      "source": [
        "def calculateClassProbabilities(summaries, inputVector):\n",
        "    probabilities = {}\n",
        "    for classValue, classSummaries in summaries.items():\n",
        "        probabilities[classValue] = 1\n",
        "        for i in range(len(classSummaries)):\n",
        "            mean, stdev = classSummaries[i]\n",
        "            x = inputVector[i]\n",
        "            probabilities[classValue] *= calculateProbability(x, mean, stdev)\n",
        "    return probabilities\n"
      ],
      "metadata": {
        "id": "XPrgvgh7uQFg"
      },
      "execution_count": 96,
      "outputs": []
    },
    {
      "cell_type": "code",
      "source": [
        "\n",
        "def predict(summaries, inputVector):\n",
        "  probabilities=calculateClassProbabilities (summaries, inputVector)\n",
        "  bestLabel, bestProb =None, -1\n",
        "  for classValue, probability in probabilities.items():\n",
        "    if bestLabel is None or probability > bestProb:\n",
        "      bestProb =probability\n",
        "      bestLabel =classValue\n",
        "    return bestLabel\n"
      ],
      "metadata": {
        "id": "bX85AdGvvOMB"
      },
      "execution_count": 97,
      "outputs": []
    },
    {
      "cell_type": "code",
      "source": [
        "def getPredictions (summaries, testSet):\n",
        "  predictions=[]\n",
        "  for i in range(len(testSet)):\n",
        "    result= predict (summaries, testSet[i])\n",
        "    predictions.append(result)\n",
        "  return predictions"
      ],
      "metadata": {
        "id": "26Abjtw6yKeC"
      },
      "execution_count": 98,
      "outputs": []
    },
    {
      "cell_type": "code",
      "source": [
        "def getAccuracy(testSet, predictions):\n",
        "    correct = 0\n",
        "    for x in range(len(testSet)):\n",
        "        if testSet[x][-1] == predictions[x]:\n",
        "            correct += 1\n",
        "    return (correct / float(len(testSet))) * 100.0\n"
      ],
      "metadata": {
        "id": "psrIb5SzyS7g"
      },
      "execution_count": 99,
      "outputs": []
    },
    {
      "cell_type": "code",
      "source": [
        "def main():\n",
        "  filename='diabetes.csv'\n",
        "  splitRatio =0.67\n",
        "  dataset =loadCsv(filename)\n",
        "  trainingSet, testSet =splitDataset (dataset, splitRatio)\n",
        "  print('Split {} rows into train {} and test {} rows'.format(len(dataset), len(trainingSet), len(testSet)))\n",
        "\n",
        "  summaries =summarizeByClass (trainingSet)\n",
        "  #test model\n",
        "  predictions =getPredictions (summaries, testSet)\n",
        "  accuracy= getAccuracy (testSet, predictions)\n",
        "  print('Accuracy: {:.2f}%'.format(accuracy))\n",
        "main()\n",
        "\n"
      ],
      "metadata": {
        "colab": {
          "base_uri": "https://localhost:8080/"
        },
        "id": "Ah9RnDD5yja1",
        "outputId": "5c230809-b5a0-46c8-f792-f902f4c6a1c8"
      },
      "execution_count": 100,
      "outputs": [
        {
          "output_type": "stream",
          "name": "stdout",
          "text": [
            "Split 768 rows into train 514 and test 254 rows\n",
            "Accuracy: 62.99%\n"
          ]
        }
      ]
    }
  ]
}